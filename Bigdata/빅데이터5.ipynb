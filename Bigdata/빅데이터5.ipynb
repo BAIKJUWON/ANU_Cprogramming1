{
  "nbformat": 4,
  "nbformat_minor": 0,
  "metadata": {
    "colab": {
      "provenance": [],
      "authorship_tag": "ABX9TyNGzT9+FUkKLSUJP+L6+ivv",
      "include_colab_link": true
    },
    "kernelspec": {
      "name": "python3",
      "display_name": "Python 3"
    },
    "language_info": {
      "name": "python"
    }
  },
  "cells": [
    {
      "cell_type": "markdown",
      "metadata": {
        "id": "view-in-github",
        "colab_type": "text"
      },
      "source": [
        "<a href=\"https://colab.research.google.com/github/BAIKJUWON/ANU_Cprogramming1/blob/main/Bigdata/%EB%B9%85%EB%8D%B0%EC%9D%B4%ED%84%B05.ipynb\" target=\"_parent\"><img src=\"https://colab.research.google.com/assets/colab-badge.svg\" alt=\"Open In Colab\"/></a>"
      ]
    },
    {
      "cell_type": "markdown",
      "source": [
        "#순차문"
      ],
      "metadata": {
        "id": "PgVn6I8gLxWF"
      }
    },
    {
      "cell_type": "code",
      "execution_count": null,
      "metadata": {
        "colab": {
          "base_uri": "https://localhost:8080/"
        },
        "id": "VCO7Fdn4IkiD",
        "outputId": "4e0cc6f4-3ed9-4d77-bd57-7948d03d73f3"
      },
      "outputs": [
        {
          "output_type": "stream",
          "name": "stdout",
          "text": [
            "1\n",
            "2\n",
            "3\n"
          ]
        }
      ],
      "source": [
        "num = 1\n",
        "print(num)\n",
        "num = num+1\n",
        "print(num)\n",
        "num=num+1\n",
        "print(num)"
      ]
    },
    {
      "cell_type": "code",
      "source": [
        "age = int(input(\"input age : \"))\n",
        "\n",
        "if age<20:\n",
        "  print(\"청소년 할인 적용\")\n",
        "print(\"입장권 발권\")"
      ],
      "metadata": {
        "colab": {
          "base_uri": "https://localhost:8080/"
        },
        "id": "_PeXxyHnOM1k",
        "outputId": "a5f69294-4908-4d79-ce83-6130bb171948"
      },
      "execution_count": null,
      "outputs": [
        {
          "output_type": "stream",
          "name": "stdout",
          "text": [
            "input age : 19\n",
            "청소년 할인 적용\n",
            "입장권 발권\n"
          ]
        }
      ]
    },
    {
      "cell_type": "code",
      "source": [
        "hour = 13\n",
        "\n",
        "if hour<12:\n",
        "  print(\"오전\")\n",
        "\n",
        "else :\n",
        "  print(\"오후\")"
      ],
      "metadata": {
        "colab": {
          "base_uri": "https://localhost:8080/"
        },
        "id": "SrVQHRZjO3x0",
        "outputId": "6f6942c0-bc55-4983-8002-451e4e9a2dff"
      },
      "execution_count": null,
      "outputs": [
        {
          "output_type": "stream",
          "name": "stdout",
          "text": [
            "오후\n"
          ]
        }
      ]
    },
    {
      "cell_type": "markdown",
      "source": [
        "#논리연산자"
      ],
      "metadata": {
        "id": "xuim5AR3PPfT"
      }
    },
    {
      "cell_type": "code",
      "source": [
        "5<6 and 6<8"
      ],
      "metadata": {
        "colab": {
          "base_uri": "https://localhost:8080/"
        },
        "id": "-Ql9T7i6POJk",
        "outputId": "b76705f1-52cf-41f2-edc7-badc4c9a3d9e"
      },
      "execution_count": null,
      "outputs": [
        {
          "output_type": "execute_result",
          "data": {
            "text/plain": [
              "True"
            ]
          },
          "metadata": {},
          "execution_count": 7
        }
      ]
    },
    {
      "cell_type": "markdown",
      "source": [
        "##윤년판별"
      ],
      "metadata": {
        "id": "mAo9Dp14PiMs"
      }
    },
    {
      "cell_type": "code",
      "source": [
        "year = int(input(\"연도를 입력하세요 : \"))\n",
        "if year % 4 == 0 and year % 100 != 0 or year%400==0:\n",
        "  print(\"윤년 입니다.\")\n",
        "\n",
        "else:\n",
        "  print(\"윤년이 아닙니다.\")\n"
      ],
      "metadata": {
        "colab": {
          "base_uri": "https://localhost:8080/"
        },
        "id": "xWBF5bB9Pl4l",
        "outputId": "a645c031-5a5c-45a6-b555-2396e622d4ef"
      },
      "execution_count": null,
      "outputs": [
        {
          "output_type": "stream",
          "name": "stdout",
          "text": [
            "연도를 입력하세요 : 2024\n",
            "윤년 입니다.\n"
          ]
        }
      ]
    },
    {
      "cell_type": "code",
      "source": [
        "score = int(input(\"점수를 입력하세요 : \"))\n",
        "\n",
        "if score >= 90 :\n",
        "  print(\"A\")\n",
        "\n",
        "elif score >= 80:\n",
        "  print(\"B\")\n",
        "\n",
        "elif score >= 70:\n",
        "  print(\"C\")\n",
        "\n",
        "elif score >= 60:\n",
        "  print(\"D\")\n",
        "\n",
        "else:\n",
        "  print(\"F\")"
      ],
      "metadata": {
        "colab": {
          "base_uri": "https://localhost:8080/"
        },
        "id": "zie_EyKfRFds",
        "outputId": "d95fd459-6f63-44de-bda3-bd7e105f3d6b"
      },
      "execution_count": null,
      "outputs": [
        {
          "output_type": "stream",
          "name": "stdout",
          "text": [
            "점수를 입력하세요 : 100\n",
            "A\n"
          ]
        }
      ]
    },
    {
      "cell_type": "markdown",
      "source": [
        "#반복문(for)"
      ],
      "metadata": {
        "id": "G-baRcytZAe-"
      }
    },
    {
      "cell_type": "code",
      "source": [
        "list(range(5))"
      ],
      "metadata": {
        "colab": {
          "base_uri": "https://localhost:8080/"
        },
        "id": "4K5KglZ8ZY0F",
        "outputId": "a6be3d24-0ba7-4849-8881-78bf160a6a8d"
      },
      "execution_count": null,
      "outputs": [
        {
          "output_type": "execute_result",
          "data": {
            "text/plain": [
              "[0, 1, 2, 3, 4]"
            ]
          },
          "metadata": {},
          "execution_count": 15
        }
      ]
    },
    {
      "cell_type": "code",
      "source": [
        "for i in range(5):\n",
        "  print(\"Hello\")"
      ],
      "metadata": {
        "colab": {
          "base_uri": "https://localhost:8080/"
        },
        "id": "cn0e9ca3Wsbv",
        "outputId": "8df15e34-0a04-4c2c-a1db-121de911c7a1"
      },
      "execution_count": null,
      "outputs": [
        {
          "output_type": "stream",
          "name": "stdout",
          "text": [
            "Hello\n",
            "Hello\n",
            "Hello\n",
            "Hello\n",
            "Hello\n"
          ]
        }
      ]
    },
    {
      "cell_type": "code",
      "source": [
        "list(range(1,10,2))"
      ],
      "metadata": {
        "colab": {
          "base_uri": "https://localhost:8080/"
        },
        "id": "MBjMAr1lZ_0V",
        "outputId": "e8904f98-8aaa-4a37-fd19-b79cfc6271a5"
      },
      "execution_count": null,
      "outputs": [
        {
          "output_type": "execute_result",
          "data": {
            "text/plain": [
              "[1, 3, 5, 7, 9]"
            ]
          },
          "metadata": {},
          "execution_count": 22
        }
      ]
    },
    {
      "cell_type": "code",
      "source": [
        "list(range(2,10,2))"
      ],
      "metadata": {
        "colab": {
          "base_uri": "https://localhost:8080/"
        },
        "id": "fGaI2e62ZktV",
        "outputId": "f6327fdb-6417-49bc-e66d-2b0eaca4e7f8"
      },
      "execution_count": null,
      "outputs": [
        {
          "output_type": "execute_result",
          "data": {
            "text/plain": [
              "[2, 4, 6, 8]"
            ]
          },
          "metadata": {},
          "execution_count": 21
        }
      ]
    },
    {
      "cell_type": "code",
      "source": [
        "for i in range(100,0,-1):\n",
        "    print(f\"{i:3}\",end=' ')\n",
        "    if i%10 == 1:\n",
        "      print()"
      ],
      "metadata": {
        "colab": {
          "base_uri": "https://localhost:8080/"
        },
        "id": "AWyG3YAwaB18",
        "outputId": "e8308323-4224-4666-aa00-86b4fc61a776"
      },
      "execution_count": null,
      "outputs": [
        {
          "output_type": "stream",
          "name": "stdout",
          "text": [
            "100  99  98  97  96  95  94  93  92  91 \n",
            " 90  89  88  87  86  85  84  83  82  81 \n",
            " 80  79  78  77  76  75  74  73  72  71 \n",
            " 70  69  68  67  66  65  64  63  62  61 \n",
            " 60  59  58  57  56  55  54  53  52  51 \n",
            " 50  49  48  47  46  45  44  43  42  41 \n",
            " 40  39  38  37  36  35  34  33  32  31 \n",
            " 30  29  28  27  26  25  24  23  22  21 \n",
            " 20  19  18  17  16  15  14  13  12  11 \n",
            " 10   9   8   7   6   5   4   3   2   1 \n"
          ]
        }
      ]
    },
    {
      "cell_type": "code",
      "source": [
        "s = 'hello'\n",
        "\n",
        "for i in s:\n",
        "  print(i)"
      ],
      "metadata": {
        "colab": {
          "base_uri": "https://localhost:8080/"
        },
        "id": "BtFTG-sFb1aW",
        "outputId": "d58ff1b3-da5c-416c-c570-0653f1ecb906"
      },
      "execution_count": null,
      "outputs": [
        {
          "output_type": "stream",
          "name": "stdout",
          "text": [
            "h\n",
            "e\n",
            "l\n",
            "l\n",
            "o\n"
          ]
        }
      ]
    },
    {
      "cell_type": "code",
      "source": [
        "t = 0\n",
        "for i in [10,20,30,40,50]:\n",
        "  t+=i\n",
        "\n",
        "print(t)"
      ],
      "metadata": {
        "colab": {
          "base_uri": "https://localhost:8080/"
        },
        "id": "MjGKM9QDcC6-",
        "outputId": "f657acc0-9012-4492-d5a8-8af521fd907b"
      },
      "execution_count": null,
      "outputs": [
        {
          "output_type": "stream",
          "name": "stdout",
          "text": [
            "150\n"
          ]
        }
      ]
    },
    {
      "cell_type": "code",
      "source": [
        "num = 0\n",
        "for i in range(1,101):\n",
        "  num+=i\n",
        "\n",
        "print(num)"
      ],
      "metadata": {
        "colab": {
          "base_uri": "https://localhost:8080/"
        },
        "id": "JA0FbgWLcLRd",
        "outputId": "df1823c5-a836-45b2-8d42-c6fe7fe1052e"
      },
      "execution_count": null,
      "outputs": [
        {
          "output_type": "stream",
          "name": "stdout",
          "text": [
            "5050\n"
          ]
        }
      ]
    },
    {
      "cell_type": "code",
      "source": [
        "tot = 0\n",
        "for i in range(100,0,-1):\n",
        "    print(f\"{i:3d}\",end=' +')\n",
        "    tot+=i\n",
        "    if i%10 == 1:\n",
        "      print()\n",
        "print(f'={tot}')"
      ],
      "metadata": {
        "colab": {
          "base_uri": "https://localhost:8080/"
        },
        "id": "9bl9RfS9emS-",
        "outputId": "786d76a3-5324-4b9d-f183-6a6ba1b1b2a5"
      },
      "execution_count": null,
      "outputs": [
        {
          "output_type": "stream",
          "name": "stdout",
          "text": [
            "100 + 99 + 98 + 97 + 96 + 95 + 94 + 93 + 92 + 91 +\n",
            " 90 + 89 + 88 + 87 + 86 + 85 + 84 + 83 + 82 + 81 +\n",
            " 80 + 79 + 78 + 77 + 76 + 75 + 74 + 73 + 72 + 71 +\n",
            " 70 + 69 + 68 + 67 + 66 + 65 + 64 + 63 + 62 + 61 +\n",
            " 60 + 59 + 58 + 57 + 56 + 55 + 54 + 53 + 52 + 51 +\n",
            " 50 + 49 + 48 + 47 + 46 + 45 + 44 + 43 + 42 + 41 +\n",
            " 40 + 39 + 38 + 37 + 36 + 35 + 34 + 33 + 32 + 31 +\n",
            " 30 + 29 + 28 + 27 + 26 + 25 + 24 + 23 + 22 + 21 +\n",
            " 20 + 19 + 18 + 17 + 16 + 15 + 14 + 13 + 12 + 11 +\n",
            " 10 +  9 +  8 +  7 +  6 +  5 +  4 +  3 +  2 +  1 +\n",
            "=5050\n"
          ]
        }
      ]
    },
    {
      "cell_type": "code",
      "source": [
        "#dan = 2\n",
        "for j in range(1,10):\n",
        "  for i in range(2,10):\n",
        "    print(f\"{i} * {j} = {j*i:2d}\",end='\\t')\n",
        "  print()"
      ],
      "metadata": {
        "colab": {
          "base_uri": "https://localhost:8080/"
        },
        "id": "NCjaTNfueOom",
        "outputId": "3edd4d0d-637c-4074-fd1c-e44b48f470af"
      },
      "execution_count": null,
      "outputs": [
        {
          "output_type": "stream",
          "name": "stdout",
          "text": [
            "2 * 1 =  2\t3 * 1 =  3\t4 * 1 =  4\t5 * 1 =  5\t6 * 1 =  6\t7 * 1 =  7\t8 * 1 =  8\t9 * 1 =  9\t\n",
            "2 * 2 =  4\t3 * 2 =  6\t4 * 2 =  8\t5 * 2 = 10\t6 * 2 = 12\t7 * 2 = 14\t8 * 2 = 16\t9 * 2 = 18\t\n",
            "2 * 3 =  6\t3 * 3 =  9\t4 * 3 = 12\t5 * 3 = 15\t6 * 3 = 18\t7 * 3 = 21\t8 * 3 = 24\t9 * 3 = 27\t\n",
            "2 * 4 =  8\t3 * 4 = 12\t4 * 4 = 16\t5 * 4 = 20\t6 * 4 = 24\t7 * 4 = 28\t8 * 4 = 32\t9 * 4 = 36\t\n",
            "2 * 5 = 10\t3 * 5 = 15\t4 * 5 = 20\t5 * 5 = 25\t6 * 5 = 30\t7 * 5 = 35\t8 * 5 = 40\t9 * 5 = 45\t\n",
            "2 * 6 = 12\t3 * 6 = 18\t4 * 6 = 24\t5 * 6 = 30\t6 * 6 = 36\t7 * 6 = 42\t8 * 6 = 48\t9 * 6 = 54\t\n",
            "2 * 7 = 14\t3 * 7 = 21\t4 * 7 = 28\t5 * 7 = 35\t6 * 7 = 42\t7 * 7 = 49\t8 * 7 = 56\t9 * 7 = 63\t\n",
            "2 * 8 = 16\t3 * 8 = 24\t4 * 8 = 32\t5 * 8 = 40\t6 * 8 = 48\t7 * 8 = 56\t8 * 8 = 64\t9 * 8 = 72\t\n",
            "2 * 9 = 18\t3 * 9 = 27\t4 * 9 = 36\t5 * 9 = 45\t6 * 9 = 54\t7 * 9 = 63\t8 * 9 = 72\t9 * 9 = 81\t\n"
          ]
        }
      ]
    },
    {
      "cell_type": "markdown",
      "source": [
        "#while"
      ],
      "metadata": {
        "id": "K1gQCEThmhbn"
      }
    },
    {
      "cell_type": "code",
      "source": [
        "i = 1\n",
        "\n",
        "while i< 5:\n",
        "  print(i)\n",
        "  i+=1"
      ],
      "metadata": {
        "colab": {
          "base_uri": "https://localhost:8080/"
        },
        "id": "ydik_TmOmjMu",
        "outputId": "3a832f7e-df85-4330-e8d8-316ef6a06728"
      },
      "execution_count": null,
      "outputs": [
        {
          "output_type": "stream",
          "name": "stdout",
          "text": [
            "1\n",
            "2\n",
            "3\n",
            "4\n"
          ]
        }
      ]
    },
    {
      "cell_type": "code",
      "source": [
        "for i in range(10):\n",
        "  print(i,end=' ')"
      ],
      "metadata": {
        "colab": {
          "base_uri": "https://localhost:8080/"
        },
        "id": "LQ6uKrUznB9O",
        "outputId": "c2bb0616-8293-4c63-972c-978cddf878a9"
      },
      "execution_count": null,
      "outputs": [
        {
          "output_type": "stream",
          "name": "stdout",
          "text": [
            "0 1 2 3 4 5 6 7 8 9 "
          ]
        }
      ]
    },
    {
      "cell_type": "code",
      "source": [
        "i = 0\n",
        "while i<10:\n",
        "  print(i, end=' ')\n",
        "  i+=1"
      ],
      "metadata": {
        "colab": {
          "base_uri": "https://localhost:8080/"
        },
        "id": "nhnrMPexnHYG",
        "outputId": "488c9895-4705-4bef-cac0-2797bbb15cc1"
      },
      "execution_count": null,
      "outputs": [
        {
          "output_type": "stream",
          "name": "stdout",
          "text": [
            "0 1 2 3 4 5 6 7 8 9 "
          ]
        }
      ]
    },
    {
      "cell_type": "code",
      "source": [
        "i = 1\n",
        "s = 0\n",
        "while i<11:\n",
        "  #print(i,end=' ')\n",
        "  s+=i\n",
        "  if s>30:\n",
        "    i+=1\n",
        "print(f'1+2+...+10={s}')"
      ],
      "metadata": {
        "colab": {
          "base_uri": "https://localhost:8080/"
        },
        "id": "gFfHsn-NnYp3",
        "outputId": "40f813b8-9053-41bd-b9bd-7f959c71c70d"
      },
      "execution_count": null,
      "outputs": [
        {
          "output_type": "stream",
          "name": "stdout",
          "text": [
            "1+2+...+10=85\n"
          ]
        }
      ]
    },
    {
      "cell_type": "code",
      "source": [
        "string1 = 'python'\n",
        "for ch in string1:\n",
        "  if ch in ['a','e','i','o','u']:\n",
        "    break\n",
        "  print(ch)"
      ],
      "metadata": {
        "id": "du1PmuF5oekO",
        "colab": {
          "base_uri": "https://localhost:8080/"
        },
        "outputId": "f8fa4f4c-6746-4110-b4d4-980a4904240d"
      },
      "execution_count": null,
      "outputs": [
        {
          "output_type": "stream",
          "name": "stdout",
          "text": [
            "p\n",
            "y\n",
            "t\n",
            "h\n"
          ]
        }
      ]
    },
    {
      "cell_type": "code",
      "source": [
        "string1 = 'python'\n",
        "\n",
        "for ch in string1:\n",
        "  if ch in ['a','e','i','o','u']:\n",
        "    continue\n",
        "  print(ch)"
      ],
      "metadata": {
        "colab": {
          "base_uri": "https://localhost:8080/"
        },
        "id": "pW75ceqao3_H",
        "outputId": "abb8bdf9-56f2-4e91-8d8f-052a5ad0da34"
      },
      "execution_count": null,
      "outputs": [
        {
          "output_type": "stream",
          "name": "stdout",
          "text": [
            "p\n",
            "y\n",
            "t\n",
            "h\n",
            "n\n"
          ]
        }
      ]
    },
    {
      "cell_type": "code",
      "source": [
        "list1 = [n for n in range(1,11)]\n",
        "list1"
      ],
      "metadata": {
        "colab": {
          "base_uri": "https://localhost:8080/"
        },
        "id": "5aqAoVaDqTwm",
        "outputId": "333ccf0c-c26c-4ebb-c458-ef1752ca2185"
      },
      "execution_count": null,
      "outputs": [
        {
          "output_type": "execute_result",
          "data": {
            "text/plain": [
              "[1, 2, 3, 4, 5, 6, 7, 8, 9, 10]"
            ]
          },
          "metadata": {},
          "execution_count": 79
        }
      ]
    },
    {
      "cell_type": "code",
      "source": [
        "list2 = [n for n in range(1,11) if n%2==1]\n",
        "list2"
      ],
      "metadata": {
        "colab": {
          "base_uri": "https://localhost:8080/"
        },
        "id": "71vQoupTpzDX",
        "outputId": "ce7e9083-b508-46ba-e921-d31ef7304a92"
      },
      "execution_count": null,
      "outputs": [
        {
          "output_type": "execute_result",
          "data": {
            "text/plain": [
              "[1, 3, 5, 7, 9]"
            ]
          },
          "metadata": {},
          "execution_count": 78
        }
      ]
    },
    {
      "cell_type": "code",
      "source": [
        "a = [1,3,5,7,9]\n",
        "list3 = [n*2 for n in a]\n",
        "list3"
      ],
      "metadata": {
        "colab": {
          "base_uri": "https://localhost:8080/"
        },
        "id": "7-3TWtTXqb4-",
        "outputId": "f7bbd57b-cf2a-40ff-a65a-d8e9612ab64a"
      },
      "execution_count": null,
      "outputs": [
        {
          "output_type": "execute_result",
          "data": {
            "text/plain": [
              "[2, 6, 10, 14, 18]"
            ]
          },
          "metadata": {},
          "execution_count": 80
        }
      ]
    },
    {
      "cell_type": "code",
      "source": [
        "list4 = [n for n in 'python']\n",
        "list4"
      ],
      "metadata": {
        "colab": {
          "base_uri": "https://localhost:8080/"
        },
        "id": "Uq5dV4eEr4B4",
        "outputId": "ac63414b-ddc9-40dd-d5a8-34aa86014df2"
      },
      "execution_count": null,
      "outputs": [
        {
          "output_type": "execute_result",
          "data": {
            "text/plain": [
              "['p', 'y', 't', 'h', 'o', 'n']"
            ]
          },
          "metadata": {},
          "execution_count": 82
        }
      ]
    },
    {
      "cell_type": "code",
      "source": [
        "c = None\n",
        "while c not in ['가위','바위','보']:\n",
        "  c = input('가위,바위,보 선택')\n",
        "print(f'선택한 값 : {c}')"
      ],
      "metadata": {
        "colab": {
          "base_uri": "https://localhost:8080/"
        },
        "id": "KZDxBHx3qoo-",
        "outputId": "475ae9ba-a24e-40fa-fe89-294a45d878f4"
      },
      "execution_count": null,
      "outputs": [
        {
          "output_type": "stream",
          "name": "stdout",
          "text": [
            "가위,바위,보 선택묵\n",
            "가위,바위,보 선택찌\n",
            "가위,바위,보 선택가위\n",
            "선택한 값 : 가위\n"
          ]
        }
      ]
    }
  ]
}